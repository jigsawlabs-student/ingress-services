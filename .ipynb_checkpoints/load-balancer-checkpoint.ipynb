{
 "cells": [
  {
   "cell_type": "markdown",
   "metadata": {},
   "source": [
    "# Load Balancer Service"
   ]
  },
  {
   "cell_type": "markdown",
   "metadata": {},
   "source": [
    "### Introduction"
   ]
  },
  {
   "cell_type": "markdown",
   "metadata": {},
   "source": [
    "For a load balancer service we allow access to a specific set of pods in our cluster.  But here, we have two set of pods to expose.  So a load balancer cannot give us access to both sets.\n",
    "\n",
    "Load balancer also reaches out to the cloud provider and creates a load balancer using their definition.  So in AWS may get a classic or application load balancer.  So sets up external resource outside of the cluster. "
   ]
  },
  {
   "cell_type": "markdown",
   "metadata": {},
   "source": [
    "Next, let's move on towards writing Kubernetes configuration file.  This time, we use the `networking.k8s.io/v1beta1` api to build a service of type `Ingress`.\n",
    "\n",
    "Under the `metadata` key below, we'll see a new key for `annotations`.  Annotations are essentially where we'll place configuration data for services related to the config.  So here, the ingress class specifies to setup the contiguration in Kubernetes for Nginx Ingress (as we set `kubernetes.io/ingress.class: nginx`).  And because in Nginx we'll be using `regex`, we then set `use-regex` to True.\n",
    "\n",
    "> In the next paragraph we'll explain the `spec`."
   ]
  },
  {
   "cell_type": "markdown",
   "metadata": {},
   "source": [
    "```yaml\n",
    "apiVersion: networking.k8s.io/v1beta1\n",
    "kind: Ingress\n",
    "metadata:\n",
    "  name: ingress-service\n",
    "  annotations:\n",
    "    kubernetes.io/ingress.class: nginx\n",
    "    # tells kubernetes to create an ingress controller based on nginx project\n",
    "    nginx.ingress.kubernetes.io/use-regex: 'true'\n",
    "    # allows for use of regex\n",
    "spec:\n",
    "  rules:\n",
    "    - http:\n",
    "        paths:\n",
    "          - path: /?(.*)\n",
    "            backend:\n",
    "              serviceName: api-deployment-service\n",
    "              servicePort: 5000\n",
    "```"
   ]
  },
  {
   "cell_type": "markdown",
   "metadata": {},
   "source": [
    "Now in the spec section we can see that we are setting up the routing for Nginx.  We do this through: \n",
    "\n",
    "```yaml\n",
    "spec:\n",
    "  rules:\n",
    "    - http:\n",
    "        paths:\n",
    "```"
   ]
  },
  {
   "cell_type": "markdown",
   "metadata": {},
   "source": [
    "Then we specify each of our paths, and the service we wish to route them to.  Above we specify that when the user makes a request to any route that has a `/` for the ingress to pass those requests along to the`api-deployment-service` to route to port 5000.  "
   ]
  },
  {
   "cell_type": "markdown",
   "metadata": {},
   "source": [
    "```yaml\n",
    "- path: /?(.*)\n",
    "            backend:\n",
    "              serviceName: api-deployment-service\n",
    "              servicePort: 5000\n",
    "```"
   ]
  },
  {
   "cell_type": "markdown",
   "metadata": {},
   "source": [
    "We can apply our service with `kubectl apply -f ingress-service.yaml`.  Ok, with our ingress setup we should now be able to make external requests to our cluster."
   ]
  },
  {
   "cell_type": "markdown",
   "metadata": {},
   "source": [
    "### Viewing our Service"
   ]
  },
  {
   "cell_type": "markdown",
   "metadata": {},
   "source": [
    "Now let's give it a shot.  We'll see if we can view our api from the browser.  \n",
    "\n",
    "So remember that our kubernetes cluster is located within a virtual machine setup in minikube.  We can find the ip address to our cluster with the command `minikube ip`."
   ]
  },
  {
   "cell_type": "markdown",
   "metadata": {},
   "source": [
    "```bash\n",
    "minikube ip\n",
    "\n",
    "192.168.64.5\n",
    "```"
   ]
  },
  {
   "cell_type": "markdown",
   "metadata": {},
   "source": [
    "And if we visit this ip address we should reach the ingress service, which routes requests to our `api-deployment-service`, which will route our request to one of the pods in the api deployment.  Let's check it out."
   ]
  },
  {
   "cell_type": "markdown",
   "metadata": {},
   "source": [
    "And so it is."
   ]
  },
  {
   "cell_type": "markdown",
   "metadata": {},
   "source": [
    "<img src=\"./view-restaurants.png\" width=\"70%\">"
   ]
  },
  {
   "cell_type": "code",
   "execution_count": null,
   "metadata": {},
   "outputs": [],
   "source": []
  }
 ],
 "metadata": {
  "kernelspec": {
   "display_name": "Python 3",
   "language": "python",
   "name": "python3"
  },
  "language_info": {
   "codemirror_mode": {
    "name": "ipython",
    "version": 3
   },
   "file_extension": ".py",
   "mimetype": "text/x-python",
   "name": "python",
   "nbconvert_exporter": "python",
   "pygments_lexer": "ipython3",
   "version": "3.8.6"
  }
 },
 "nbformat": 4,
 "nbformat_minor": 4
}
